{
 "cells": [
  {
   "cell_type": "code",
   "execution_count": 1,
   "id": "f7400a72",
   "metadata": {
    "ExecuteTime": {
     "end_time": "2022-07-21T17:40:30.754281Z",
     "start_time": "2022-07-21T17:40:29.164612Z"
    }
   },
   "outputs": [],
   "source": [
    "import pandas as pd\n",
    "import numpy as np\n",
    "import seaborn as sns\n",
    "import matplotlib.pyplot as plt\n",
    "%matplotlib inline"
   ]
  },
  {
   "cell_type": "markdown",
   "id": "d7a3c63e",
   "metadata": {},
   "source": [
    "# Data Reading"
   ]
  },
  {
   "cell_type": "code",
   "execution_count": 2,
   "id": "39d4409e",
   "metadata": {
    "ExecuteTime": {
     "end_time": "2022-07-21T17:40:51.638215Z",
     "start_time": "2022-07-21T17:40:51.516619Z"
    }
   },
   "outputs": [
    {
     "data": {
      "text/html": [
       "<div>\n",
       "<style scoped>\n",
       "    .dataframe tbody tr th:only-of-type {\n",
       "        vertical-align: middle;\n",
       "    }\n",
       "\n",
       "    .dataframe tbody tr th {\n",
       "        vertical-align: top;\n",
       "    }\n",
       "\n",
       "    .dataframe thead th {\n",
       "        text-align: right;\n",
       "    }\n",
       "</style>\n",
       "<table border=\"1\" class=\"dataframe\">\n",
       "  <thead>\n",
       "    <tr style=\"text-align: right;\">\n",
       "      <th></th>\n",
       "      <th>patient_nbr</th>\n",
       "      <th>race</th>\n",
       "      <th>gender</th>\n",
       "      <th>age</th>\n",
       "      <th>admission_type_id</th>\n",
       "      <th>discharge_disposition_id</th>\n",
       "      <th>admission_source_id</th>\n",
       "      <th>time_in_hospital</th>\n",
       "      <th>num_lab_procedures</th>\n",
       "      <th>num_procedures</th>\n",
       "      <th>num_medications</th>\n",
       "      <th>number_outpatient</th>\n",
       "      <th>number_emergency</th>\n",
       "      <th>number_inpatient</th>\n",
       "      <th>diag_1</th>\n",
       "      <th>diag_2</th>\n",
       "      <th>diag_3</th>\n",
       "      <th>number_diagnoses</th>\n",
       "      <th>change</th>\n",
       "      <th>diabatic</th>\n",
       "    </tr>\n",
       "  </thead>\n",
       "  <tbody>\n",
       "    <tr>\n",
       "      <th>0</th>\n",
       "      <td>8222157</td>\n",
       "      <td>Caucasian</td>\n",
       "      <td>Female</td>\n",
       "      <td>[0-10)</td>\n",
       "      <td>6</td>\n",
       "      <td>25</td>\n",
       "      <td>1</td>\n",
       "      <td>1</td>\n",
       "      <td>41</td>\n",
       "      <td>0</td>\n",
       "      <td>1</td>\n",
       "      <td>0</td>\n",
       "      <td>0</td>\n",
       "      <td>0</td>\n",
       "      <td>250.83</td>\n",
       "      <td>?</td>\n",
       "      <td>?</td>\n",
       "      <td>1</td>\n",
       "      <td>No</td>\n",
       "      <td>No</td>\n",
       "    </tr>\n",
       "    <tr>\n",
       "      <th>1</th>\n",
       "      <td>55629189</td>\n",
       "      <td>Caucasian</td>\n",
       "      <td>Female</td>\n",
       "      <td>[10-20)</td>\n",
       "      <td>1</td>\n",
       "      <td>1</td>\n",
       "      <td>7</td>\n",
       "      <td>3</td>\n",
       "      <td>59</td>\n",
       "      <td>0</td>\n",
       "      <td>18</td>\n",
       "      <td>0</td>\n",
       "      <td>0</td>\n",
       "      <td>0</td>\n",
       "      <td>276</td>\n",
       "      <td>250.01</td>\n",
       "      <td>255</td>\n",
       "      <td>9</td>\n",
       "      <td>Ch</td>\n",
       "      <td>Yes</td>\n",
       "    </tr>\n",
       "    <tr>\n",
       "      <th>2</th>\n",
       "      <td>86047875</td>\n",
       "      <td>AfricanAmerican</td>\n",
       "      <td>Female</td>\n",
       "      <td>[20-30)</td>\n",
       "      <td>1</td>\n",
       "      <td>1</td>\n",
       "      <td>7</td>\n",
       "      <td>2</td>\n",
       "      <td>11</td>\n",
       "      <td>5</td>\n",
       "      <td>13</td>\n",
       "      <td>2</td>\n",
       "      <td>0</td>\n",
       "      <td>1</td>\n",
       "      <td>648</td>\n",
       "      <td>250</td>\n",
       "      <td>V27</td>\n",
       "      <td>6</td>\n",
       "      <td>No</td>\n",
       "      <td>Yes</td>\n",
       "    </tr>\n",
       "    <tr>\n",
       "      <th>3</th>\n",
       "      <td>82442376</td>\n",
       "      <td>Caucasian</td>\n",
       "      <td>Male</td>\n",
       "      <td>[30-40)</td>\n",
       "      <td>1</td>\n",
       "      <td>1</td>\n",
       "      <td>7</td>\n",
       "      <td>2</td>\n",
       "      <td>44</td>\n",
       "      <td>1</td>\n",
       "      <td>16</td>\n",
       "      <td>0</td>\n",
       "      <td>0</td>\n",
       "      <td>0</td>\n",
       "      <td>8</td>\n",
       "      <td>250.43</td>\n",
       "      <td>403</td>\n",
       "      <td>7</td>\n",
       "      <td>Ch</td>\n",
       "      <td>Yes</td>\n",
       "    </tr>\n",
       "    <tr>\n",
       "      <th>4</th>\n",
       "      <td>42519267</td>\n",
       "      <td>Caucasian</td>\n",
       "      <td>Male</td>\n",
       "      <td>[40-50)</td>\n",
       "      <td>1</td>\n",
       "      <td>1</td>\n",
       "      <td>7</td>\n",
       "      <td>1</td>\n",
       "      <td>51</td>\n",
       "      <td>0</td>\n",
       "      <td>8</td>\n",
       "      <td>0</td>\n",
       "      <td>0</td>\n",
       "      <td>0</td>\n",
       "      <td>197</td>\n",
       "      <td>157</td>\n",
       "      <td>250</td>\n",
       "      <td>5</td>\n",
       "      <td>Ch</td>\n",
       "      <td>Yes</td>\n",
       "    </tr>\n",
       "  </tbody>\n",
       "</table>\n",
       "</div>"
      ],
      "text/plain": [
       "   patient_nbr             race  gender      age  admission_type_id  \\\n",
       "0      8222157        Caucasian  Female   [0-10)                  6   \n",
       "1     55629189        Caucasian  Female  [10-20)                  1   \n",
       "2     86047875  AfricanAmerican  Female  [20-30)                  1   \n",
       "3     82442376        Caucasian    Male  [30-40)                  1   \n",
       "4     42519267        Caucasian    Male  [40-50)                  1   \n",
       "\n",
       "   discharge_disposition_id  admission_source_id  time_in_hospital  \\\n",
       "0                        25                    1                 1   \n",
       "1                         1                    7                 3   \n",
       "2                         1                    7                 2   \n",
       "3                         1                    7                 2   \n",
       "4                         1                    7                 1   \n",
       "\n",
       "   num_lab_procedures  num_procedures  num_medications  number_outpatient  \\\n",
       "0                  41               0                1                  0   \n",
       "1                  59               0               18                  0   \n",
       "2                  11               5               13                  2   \n",
       "3                  44               1               16                  0   \n",
       "4                  51               0                8                  0   \n",
       "\n",
       "   number_emergency  number_inpatient  diag_1  diag_2 diag_3  \\\n",
       "0                 0                 0  250.83       ?      ?   \n",
       "1                 0                 0     276  250.01    255   \n",
       "2                 0                 1     648     250    V27   \n",
       "3                 0                 0       8  250.43    403   \n",
       "4                 0                 0     197     157    250   \n",
       "\n",
       "   number_diagnoses change diabatic  \n",
       "0                 1     No       No  \n",
       "1                 9     Ch      Yes  \n",
       "2                 6     No      Yes  \n",
       "3                 7     Ch      Yes  \n",
       "4                 5     Ch      Yes  "
      ]
     },
     "execution_count": 2,
     "metadata": {},
     "output_type": "execute_result"
    }
   ],
   "source": [
    "df = pd.read_csv(\"dataset_diabetes_diabetic_data.csv\")\n",
    "df.head()"
   ]
  },
  {
   "cell_type": "code",
   "execution_count": 3,
   "id": "dc56c93c",
   "metadata": {
    "ExecuteTime": {
     "end_time": "2022-07-21T17:41:04.797077Z",
     "start_time": "2022-07-21T17:41:04.738919Z"
    }
   },
   "outputs": [
    {
     "name": "stdout",
     "output_type": "stream",
     "text": [
      "<class 'pandas.core.frame.DataFrame'>\n",
      "RangeIndex: 70180 entries, 0 to 70179\n",
      "Data columns (total 20 columns):\n",
      " #   Column                    Non-Null Count  Dtype \n",
      "---  ------                    --------------  ----- \n",
      " 0   patient_nbr               70180 non-null  int64 \n",
      " 1   race                      70180 non-null  object\n",
      " 2   gender                    70180 non-null  object\n",
      " 3   age                       70180 non-null  object\n",
      " 4   admission_type_id         70180 non-null  int64 \n",
      " 5   discharge_disposition_id  70180 non-null  int64 \n",
      " 6   admission_source_id       70180 non-null  int64 \n",
      " 7   time_in_hospital          70180 non-null  int64 \n",
      " 8   num_lab_procedures        70180 non-null  int64 \n",
      " 9   num_procedures            70180 non-null  int64 \n",
      " 10  num_medications           70180 non-null  int64 \n",
      " 11  number_outpatient         70180 non-null  int64 \n",
      " 12  number_emergency          70180 non-null  int64 \n",
      " 13  number_inpatient          70180 non-null  int64 \n",
      " 14  diag_1                    70180 non-null  object\n",
      " 15  diag_2                    70180 non-null  object\n",
      " 16  diag_3                    70180 non-null  object\n",
      " 17  number_diagnoses          70180 non-null  int64 \n",
      " 18  change                    70180 non-null  object\n",
      " 19  diabatic                  70180 non-null  object\n",
      "dtypes: int64(12), object(8)\n",
      "memory usage: 10.7+ MB\n"
     ]
    }
   ],
   "source": [
    "df.info()"
   ]
  },
  {
   "cell_type": "code",
   "execution_count": 4,
   "id": "0a379637",
   "metadata": {
    "ExecuteTime": {
     "end_time": "2022-07-21T17:41:14.551851Z",
     "start_time": "2022-07-21T17:41:14.525850Z"
    }
   },
   "outputs": [
    {
     "data": {
      "text/plain": [
       "<bound method DataFrame.isnull of        patient_nbr             race  gender       age  admission_type_id  \\\n",
       "0          8222157        Caucasian  Female    [0-10)                  6   \n",
       "1         55629189        Caucasian  Female   [10-20)                  1   \n",
       "2         86047875  AfricanAmerican  Female   [20-30)                  1   \n",
       "3         82442376        Caucasian    Male   [30-40)                  1   \n",
       "4         42519267        Caucasian    Male   [40-50)                  1   \n",
       "...            ...              ...     ...       ...                ...   \n",
       "70175    100677726  AfricanAmerican  Female   [80-90)                  1   \n",
       "70176     38726739  AfricanAmerican  Female   [70-80)                  1   \n",
       "70177     58160520  AfricanAmerican    Male  [90-100)                  1   \n",
       "70178     43686936        Caucasian  Female   [80-90)                  1   \n",
       "70179    175429310        Caucasian    Male   [70-80)                  1   \n",
       "\n",
       "       discharge_disposition_id  admission_source_id  time_in_hospital  \\\n",
       "0                            25                    1                 1   \n",
       "1                             1                    7                 3   \n",
       "2                             1                    7                 2   \n",
       "3                             1                    7                 2   \n",
       "4                             1                    7                 1   \n",
       "...                         ...                  ...               ...   \n",
       "70175                         3                    7                 7   \n",
       "70176                         1                    7                 3   \n",
       "70177                         3                    7                 4   \n",
       "70178                         1                    7                 1   \n",
       "70179                         1                    7                 6   \n",
       "\n",
       "       num_lab_procedures  num_procedures  num_medications  number_outpatient  \\\n",
       "0                      41               0                1                  0   \n",
       "1                      59               0               18                  0   \n",
       "2                      11               5               13                  2   \n",
       "3                      44               1               16                  0   \n",
       "4                      51               0                8                  0   \n",
       "...                   ...             ...              ...                ...   \n",
       "70175                  60               0               17                  0   \n",
       "70176                  57               4               11                  0   \n",
       "70177                  21               1                8                  0   \n",
       "70178                  49               0               12                  0   \n",
       "70179                  13               3                3                  0   \n",
       "\n",
       "       number_emergency  number_inpatient  diag_1  diag_2 diag_3  \\\n",
       "0                     0                 0  250.83       ?      ?   \n",
       "1                     0                 0     276  250.01    255   \n",
       "2                     0                 1     648     250    V27   \n",
       "3                     0                 0       8  250.43    403   \n",
       "4                     0                 0     197     157    250   \n",
       "...                 ...               ...     ...     ...    ...   \n",
       "70175                 1                 1     491     707    250   \n",
       "70176                 0                 1     786     414    424   \n",
       "70177                 0                 1     820     427    276   \n",
       "70178                 0                 0     427     428    428   \n",
       "70179                 0                 0     530     530    787   \n",
       "\n",
       "       number_diagnoses change diabatic  \n",
       "0                     1     No       No  \n",
       "1                     9     Ch      Yes  \n",
       "2                     6     No      Yes  \n",
       "3                     7     Ch      Yes  \n",
       "4                     5     Ch      Yes  \n",
       "...                 ...    ...      ...  \n",
       "70175                 9     No       No  \n",
       "70176                 9     No       No  \n",
       "70177                 9     No       No  \n",
       "70178                 9     No       No  \n",
       "70179                 9     No       No  \n",
       "\n",
       "[70180 rows x 20 columns]>"
      ]
     },
     "execution_count": 4,
     "metadata": {},
     "output_type": "execute_result"
    }
   ],
   "source": [
    "df.isnull"
   ]
  },
  {
   "cell_type": "code",
   "execution_count": 6,
   "id": "27341377",
   "metadata": {
    "ExecuteTime": {
     "end_time": "2022-07-21T17:41:34.683548Z",
     "start_time": "2022-07-21T17:41:34.554985Z"
    }
   },
   "outputs": [
    {
     "data": {
      "text/html": [
       "<div>\n",
       "<style scoped>\n",
       "    .dataframe tbody tr th:only-of-type {\n",
       "        vertical-align: middle;\n",
       "    }\n",
       "\n",
       "    .dataframe tbody tr th {\n",
       "        vertical-align: top;\n",
       "    }\n",
       "\n",
       "    .dataframe thead th {\n",
       "        text-align: right;\n",
       "    }\n",
       "</style>\n",
       "<table border=\"1\" class=\"dataframe\">\n",
       "  <thead>\n",
       "    <tr style=\"text-align: right;\">\n",
       "      <th></th>\n",
       "      <th>patient_nbr</th>\n",
       "      <th>race</th>\n",
       "      <th>gender</th>\n",
       "      <th>age</th>\n",
       "      <th>admission_type_id</th>\n",
       "      <th>discharge_disposition_id</th>\n",
       "      <th>admission_source_id</th>\n",
       "      <th>time_in_hospital</th>\n",
       "      <th>num_lab_procedures</th>\n",
       "      <th>num_procedures</th>\n",
       "      <th>num_medications</th>\n",
       "      <th>number_outpatient</th>\n",
       "      <th>number_emergency</th>\n",
       "      <th>number_inpatient</th>\n",
       "      <th>diag_1</th>\n",
       "      <th>diag_2</th>\n",
       "      <th>diag_3</th>\n",
       "      <th>number_diagnoses</th>\n",
       "      <th>change</th>\n",
       "      <th>diabatic</th>\n",
       "    </tr>\n",
       "  </thead>\n",
       "  <tbody>\n",
       "    <tr>\n",
       "      <th>0</th>\n",
       "      <td>8222157</td>\n",
       "      <td>Caucasian</td>\n",
       "      <td>Female</td>\n",
       "      <td>[0-10)</td>\n",
       "      <td>6</td>\n",
       "      <td>25</td>\n",
       "      <td>1</td>\n",
       "      <td>1</td>\n",
       "      <td>41</td>\n",
       "      <td>0</td>\n",
       "      <td>1</td>\n",
       "      <td>0</td>\n",
       "      <td>0</td>\n",
       "      <td>0</td>\n",
       "      <td>250.83</td>\n",
       "      <td>?</td>\n",
       "      <td>?</td>\n",
       "      <td>1</td>\n",
       "      <td>No</td>\n",
       "      <td>No</td>\n",
       "    </tr>\n",
       "    <tr>\n",
       "      <th>1</th>\n",
       "      <td>55629189</td>\n",
       "      <td>Caucasian</td>\n",
       "      <td>Female</td>\n",
       "      <td>[10-20)</td>\n",
       "      <td>1</td>\n",
       "      <td>1</td>\n",
       "      <td>7</td>\n",
       "      <td>3</td>\n",
       "      <td>59</td>\n",
       "      <td>0</td>\n",
       "      <td>18</td>\n",
       "      <td>0</td>\n",
       "      <td>0</td>\n",
       "      <td>0</td>\n",
       "      <td>276</td>\n",
       "      <td>250.01</td>\n",
       "      <td>255</td>\n",
       "      <td>9</td>\n",
       "      <td>Ch</td>\n",
       "      <td>Yes</td>\n",
       "    </tr>\n",
       "    <tr>\n",
       "      <th>2</th>\n",
       "      <td>86047875</td>\n",
       "      <td>AfricanAmerican</td>\n",
       "      <td>Female</td>\n",
       "      <td>[20-30)</td>\n",
       "      <td>1</td>\n",
       "      <td>1</td>\n",
       "      <td>7</td>\n",
       "      <td>2</td>\n",
       "      <td>11</td>\n",
       "      <td>5</td>\n",
       "      <td>13</td>\n",
       "      <td>2</td>\n",
       "      <td>0</td>\n",
       "      <td>1</td>\n",
       "      <td>648</td>\n",
       "      <td>250</td>\n",
       "      <td>V27</td>\n",
       "      <td>6</td>\n",
       "      <td>No</td>\n",
       "      <td>Yes</td>\n",
       "    </tr>\n",
       "    <tr>\n",
       "      <th>3</th>\n",
       "      <td>82442376</td>\n",
       "      <td>Caucasian</td>\n",
       "      <td>Male</td>\n",
       "      <td>[30-40)</td>\n",
       "      <td>1</td>\n",
       "      <td>1</td>\n",
       "      <td>7</td>\n",
       "      <td>2</td>\n",
       "      <td>44</td>\n",
       "      <td>1</td>\n",
       "      <td>16</td>\n",
       "      <td>0</td>\n",
       "      <td>0</td>\n",
       "      <td>0</td>\n",
       "      <td>8</td>\n",
       "      <td>250.43</td>\n",
       "      <td>403</td>\n",
       "      <td>7</td>\n",
       "      <td>Ch</td>\n",
       "      <td>Yes</td>\n",
       "    </tr>\n",
       "    <tr>\n",
       "      <th>4</th>\n",
       "      <td>42519267</td>\n",
       "      <td>Caucasian</td>\n",
       "      <td>Male</td>\n",
       "      <td>[40-50)</td>\n",
       "      <td>1</td>\n",
       "      <td>1</td>\n",
       "      <td>7</td>\n",
       "      <td>1</td>\n",
       "      <td>51</td>\n",
       "      <td>0</td>\n",
       "      <td>8</td>\n",
       "      <td>0</td>\n",
       "      <td>0</td>\n",
       "      <td>0</td>\n",
       "      <td>197</td>\n",
       "      <td>157</td>\n",
       "      <td>250</td>\n",
       "      <td>5</td>\n",
       "      <td>Ch</td>\n",
       "      <td>Yes</td>\n",
       "    </tr>\n",
       "    <tr>\n",
       "      <th>5</th>\n",
       "      <td>82637451</td>\n",
       "      <td>Caucasian</td>\n",
       "      <td>Male</td>\n",
       "      <td>[50-60)</td>\n",
       "      <td>2</td>\n",
       "      <td>1</td>\n",
       "      <td>2</td>\n",
       "      <td>3</td>\n",
       "      <td>31</td>\n",
       "      <td>6</td>\n",
       "      <td>16</td>\n",
       "      <td>0</td>\n",
       "      <td>0</td>\n",
       "      <td>0</td>\n",
       "      <td>414</td>\n",
       "      <td>411</td>\n",
       "      <td>250</td>\n",
       "      <td>9</td>\n",
       "      <td>No</td>\n",
       "      <td>Yes</td>\n",
       "    </tr>\n",
       "    <tr>\n",
       "      <th>6</th>\n",
       "      <td>84259809</td>\n",
       "      <td>Caucasian</td>\n",
       "      <td>Male</td>\n",
       "      <td>[60-70)</td>\n",
       "      <td>3</td>\n",
       "      <td>1</td>\n",
       "      <td>2</td>\n",
       "      <td>4</td>\n",
       "      <td>70</td>\n",
       "      <td>1</td>\n",
       "      <td>21</td>\n",
       "      <td>0</td>\n",
       "      <td>0</td>\n",
       "      <td>0</td>\n",
       "      <td>414</td>\n",
       "      <td>411</td>\n",
       "      <td>V45</td>\n",
       "      <td>7</td>\n",
       "      <td>Ch</td>\n",
       "      <td>Yes</td>\n",
       "    </tr>\n",
       "    <tr>\n",
       "      <th>7</th>\n",
       "      <td>114882984</td>\n",
       "      <td>Caucasian</td>\n",
       "      <td>Male</td>\n",
       "      <td>[70-80)</td>\n",
       "      <td>1</td>\n",
       "      <td>1</td>\n",
       "      <td>7</td>\n",
       "      <td>5</td>\n",
       "      <td>73</td>\n",
       "      <td>0</td>\n",
       "      <td>12</td>\n",
       "      <td>0</td>\n",
       "      <td>0</td>\n",
       "      <td>0</td>\n",
       "      <td>428</td>\n",
       "      <td>492</td>\n",
       "      <td>250</td>\n",
       "      <td>8</td>\n",
       "      <td>No</td>\n",
       "      <td>Yes</td>\n",
       "    </tr>\n",
       "    <tr>\n",
       "      <th>8</th>\n",
       "      <td>48330783</td>\n",
       "      <td>Caucasian</td>\n",
       "      <td>Female</td>\n",
       "      <td>[80-90)</td>\n",
       "      <td>2</td>\n",
       "      <td>1</td>\n",
       "      <td>4</td>\n",
       "      <td>13</td>\n",
       "      <td>68</td>\n",
       "      <td>2</td>\n",
       "      <td>28</td>\n",
       "      <td>0</td>\n",
       "      <td>0</td>\n",
       "      <td>0</td>\n",
       "      <td>398</td>\n",
       "      <td>427</td>\n",
       "      <td>38</td>\n",
       "      <td>8</td>\n",
       "      <td>Ch</td>\n",
       "      <td>Yes</td>\n",
       "    </tr>\n",
       "    <tr>\n",
       "      <th>9</th>\n",
       "      <td>63555939</td>\n",
       "      <td>Caucasian</td>\n",
       "      <td>Female</td>\n",
       "      <td>[90-100)</td>\n",
       "      <td>3</td>\n",
       "      <td>3</td>\n",
       "      <td>4</td>\n",
       "      <td>12</td>\n",
       "      <td>33</td>\n",
       "      <td>3</td>\n",
       "      <td>18</td>\n",
       "      <td>0</td>\n",
       "      <td>0</td>\n",
       "      <td>0</td>\n",
       "      <td>434</td>\n",
       "      <td>198</td>\n",
       "      <td>486</td>\n",
       "      <td>8</td>\n",
       "      <td>Ch</td>\n",
       "      <td>Yes</td>\n",
       "    </tr>\n",
       "    <tr>\n",
       "      <th>10</th>\n",
       "      <td>89869032</td>\n",
       "      <td>AfricanAmerican</td>\n",
       "      <td>Female</td>\n",
       "      <td>[40-50)</td>\n",
       "      <td>1</td>\n",
       "      <td>1</td>\n",
       "      <td>7</td>\n",
       "      <td>9</td>\n",
       "      <td>47</td>\n",
       "      <td>2</td>\n",
       "      <td>17</td>\n",
       "      <td>0</td>\n",
       "      <td>0</td>\n",
       "      <td>0</td>\n",
       "      <td>250.7</td>\n",
       "      <td>403</td>\n",
       "      <td>996</td>\n",
       "      <td>9</td>\n",
       "      <td>No</td>\n",
       "      <td>Yes</td>\n",
       "    </tr>\n",
       "    <tr>\n",
       "      <th>11</th>\n",
       "      <td>77391171</td>\n",
       "      <td>AfricanAmerican</td>\n",
       "      <td>Male</td>\n",
       "      <td>[60-70)</td>\n",
       "      <td>2</td>\n",
       "      <td>1</td>\n",
       "      <td>4</td>\n",
       "      <td>7</td>\n",
       "      <td>62</td>\n",
       "      <td>0</td>\n",
       "      <td>11</td>\n",
       "      <td>0</td>\n",
       "      <td>0</td>\n",
       "      <td>0</td>\n",
       "      <td>157</td>\n",
       "      <td>288</td>\n",
       "      <td>197</td>\n",
       "      <td>7</td>\n",
       "      <td>Ch</td>\n",
       "      <td>Yes</td>\n",
       "    </tr>\n",
       "    <tr>\n",
       "      <th>12</th>\n",
       "      <td>85504905</td>\n",
       "      <td>Caucasian</td>\n",
       "      <td>Female</td>\n",
       "      <td>[40-50)</td>\n",
       "      <td>1</td>\n",
       "      <td>3</td>\n",
       "      <td>7</td>\n",
       "      <td>7</td>\n",
       "      <td>60</td>\n",
       "      <td>0</td>\n",
       "      <td>15</td>\n",
       "      <td>0</td>\n",
       "      <td>1</td>\n",
       "      <td>0</td>\n",
       "      <td>428</td>\n",
       "      <td>250.43</td>\n",
       "      <td>250.6</td>\n",
       "      <td>8</td>\n",
       "      <td>Ch</td>\n",
       "      <td>Yes</td>\n",
       "    </tr>\n",
       "    <tr>\n",
       "      <th>13</th>\n",
       "      <td>77586282</td>\n",
       "      <td>Caucasian</td>\n",
       "      <td>Male</td>\n",
       "      <td>[80-90)</td>\n",
       "      <td>1</td>\n",
       "      <td>6</td>\n",
       "      <td>7</td>\n",
       "      <td>10</td>\n",
       "      <td>55</td>\n",
       "      <td>1</td>\n",
       "      <td>31</td>\n",
       "      <td>0</td>\n",
       "      <td>0</td>\n",
       "      <td>0</td>\n",
       "      <td>428</td>\n",
       "      <td>411</td>\n",
       "      <td>427</td>\n",
       "      <td>8</td>\n",
       "      <td>No</td>\n",
       "      <td>Yes</td>\n",
       "    </tr>\n",
       "    <tr>\n",
       "      <th>14</th>\n",
       "      <td>49726791</td>\n",
       "      <td>AfricanAmerican</td>\n",
       "      <td>Female</td>\n",
       "      <td>[60-70)</td>\n",
       "      <td>3</td>\n",
       "      <td>1</td>\n",
       "      <td>2</td>\n",
       "      <td>1</td>\n",
       "      <td>49</td>\n",
       "      <td>5</td>\n",
       "      <td>2</td>\n",
       "      <td>0</td>\n",
       "      <td>0</td>\n",
       "      <td>0</td>\n",
       "      <td>518</td>\n",
       "      <td>998</td>\n",
       "      <td>627</td>\n",
       "      <td>8</td>\n",
       "      <td>No</td>\n",
       "      <td>Yes</td>\n",
       "    </tr>\n",
       "    <tr>\n",
       "      <th>15</th>\n",
       "      <td>86328819</td>\n",
       "      <td>AfricanAmerican</td>\n",
       "      <td>Male</td>\n",
       "      <td>[60-70)</td>\n",
       "      <td>1</td>\n",
       "      <td>3</td>\n",
       "      <td>7</td>\n",
       "      <td>12</td>\n",
       "      <td>75</td>\n",
       "      <td>5</td>\n",
       "      <td>13</td>\n",
       "      <td>0</td>\n",
       "      <td>0</td>\n",
       "      <td>0</td>\n",
       "      <td>999</td>\n",
       "      <td>507</td>\n",
       "      <td>996</td>\n",
       "      <td>9</td>\n",
       "      <td>Ch</td>\n",
       "      <td>Yes</td>\n",
       "    </tr>\n",
       "    <tr>\n",
       "      <th>16</th>\n",
       "      <td>92519352</td>\n",
       "      <td>AfricanAmerican</td>\n",
       "      <td>Male</td>\n",
       "      <td>[50-60)</td>\n",
       "      <td>1</td>\n",
       "      <td>1</td>\n",
       "      <td>7</td>\n",
       "      <td>4</td>\n",
       "      <td>45</td>\n",
       "      <td>4</td>\n",
       "      <td>17</td>\n",
       "      <td>0</td>\n",
       "      <td>0</td>\n",
       "      <td>0</td>\n",
       "      <td>410</td>\n",
       "      <td>411</td>\n",
       "      <td>414</td>\n",
       "      <td>8</td>\n",
       "      <td>Ch</td>\n",
       "      <td>Yes</td>\n",
       "    </tr>\n",
       "    <tr>\n",
       "      <th>17</th>\n",
       "      <td>108662661</td>\n",
       "      <td>Caucasian</td>\n",
       "      <td>Female</td>\n",
       "      <td>[50-60)</td>\n",
       "      <td>1</td>\n",
       "      <td>1</td>\n",
       "      <td>7</td>\n",
       "      <td>3</td>\n",
       "      <td>29</td>\n",
       "      <td>0</td>\n",
       "      <td>11</td>\n",
       "      <td>0</td>\n",
       "      <td>0</td>\n",
       "      <td>0</td>\n",
       "      <td>682</td>\n",
       "      <td>174</td>\n",
       "      <td>250</td>\n",
       "      <td>3</td>\n",
       "      <td>No</td>\n",
       "      <td>Yes</td>\n",
       "    </tr>\n",
       "    <tr>\n",
       "      <th>18</th>\n",
       "      <td>107389323</td>\n",
       "      <td>AfricanAmerican</td>\n",
       "      <td>Male</td>\n",
       "      <td>[70-80)</td>\n",
       "      <td>1</td>\n",
       "      <td>1</td>\n",
       "      <td>7</td>\n",
       "      <td>5</td>\n",
       "      <td>35</td>\n",
       "      <td>5</td>\n",
       "      <td>23</td>\n",
       "      <td>0</td>\n",
       "      <td>0</td>\n",
       "      <td>0</td>\n",
       "      <td>402</td>\n",
       "      <td>425</td>\n",
       "      <td>416</td>\n",
       "      <td>9</td>\n",
       "      <td>No</td>\n",
       "      <td>Yes</td>\n",
       "    </tr>\n",
       "    <tr>\n",
       "      <th>19</th>\n",
       "      <td>69422211</td>\n",
       "      <td>?</td>\n",
       "      <td>Male</td>\n",
       "      <td>[70-80)</td>\n",
       "      <td>3</td>\n",
       "      <td>6</td>\n",
       "      <td>2</td>\n",
       "      <td>6</td>\n",
       "      <td>42</td>\n",
       "      <td>2</td>\n",
       "      <td>23</td>\n",
       "      <td>0</td>\n",
       "      <td>0</td>\n",
       "      <td>0</td>\n",
       "      <td>737</td>\n",
       "      <td>427</td>\n",
       "      <td>714</td>\n",
       "      <td>8</td>\n",
       "      <td>Ch</td>\n",
       "      <td>Yes</td>\n",
       "    </tr>\n",
       "  </tbody>\n",
       "</table>\n",
       "</div>"
      ],
      "text/plain": [
       "    patient_nbr             race  gender       age  admission_type_id  \\\n",
       "0       8222157        Caucasian  Female    [0-10)                  6   \n",
       "1      55629189        Caucasian  Female   [10-20)                  1   \n",
       "2      86047875  AfricanAmerican  Female   [20-30)                  1   \n",
       "3      82442376        Caucasian    Male   [30-40)                  1   \n",
       "4      42519267        Caucasian    Male   [40-50)                  1   \n",
       "5      82637451        Caucasian    Male   [50-60)                  2   \n",
       "6      84259809        Caucasian    Male   [60-70)                  3   \n",
       "7     114882984        Caucasian    Male   [70-80)                  1   \n",
       "8      48330783        Caucasian  Female   [80-90)                  2   \n",
       "9      63555939        Caucasian  Female  [90-100)                  3   \n",
       "10     89869032  AfricanAmerican  Female   [40-50)                  1   \n",
       "11     77391171  AfricanAmerican    Male   [60-70)                  2   \n",
       "12     85504905        Caucasian  Female   [40-50)                  1   \n",
       "13     77586282        Caucasian    Male   [80-90)                  1   \n",
       "14     49726791  AfricanAmerican  Female   [60-70)                  3   \n",
       "15     86328819  AfricanAmerican    Male   [60-70)                  1   \n",
       "16     92519352  AfricanAmerican    Male   [50-60)                  1   \n",
       "17    108662661        Caucasian  Female   [50-60)                  1   \n",
       "18    107389323  AfricanAmerican    Male   [70-80)                  1   \n",
       "19     69422211                ?    Male   [70-80)                  3   \n",
       "\n",
       "    discharge_disposition_id  admission_source_id  time_in_hospital  \\\n",
       "0                         25                    1                 1   \n",
       "1                          1                    7                 3   \n",
       "2                          1                    7                 2   \n",
       "3                          1                    7                 2   \n",
       "4                          1                    7                 1   \n",
       "5                          1                    2                 3   \n",
       "6                          1                    2                 4   \n",
       "7                          1                    7                 5   \n",
       "8                          1                    4                13   \n",
       "9                          3                    4                12   \n",
       "10                         1                    7                 9   \n",
       "11                         1                    4                 7   \n",
       "12                         3                    7                 7   \n",
       "13                         6                    7                10   \n",
       "14                         1                    2                 1   \n",
       "15                         3                    7                12   \n",
       "16                         1                    7                 4   \n",
       "17                         1                    7                 3   \n",
       "18                         1                    7                 5   \n",
       "19                         6                    2                 6   \n",
       "\n",
       "    num_lab_procedures  num_procedures  num_medications  number_outpatient  \\\n",
       "0                   41               0                1                  0   \n",
       "1                   59               0               18                  0   \n",
       "2                   11               5               13                  2   \n",
       "3                   44               1               16                  0   \n",
       "4                   51               0                8                  0   \n",
       "5                   31               6               16                  0   \n",
       "6                   70               1               21                  0   \n",
       "7                   73               0               12                  0   \n",
       "8                   68               2               28                  0   \n",
       "9                   33               3               18                  0   \n",
       "10                  47               2               17                  0   \n",
       "11                  62               0               11                  0   \n",
       "12                  60               0               15                  0   \n",
       "13                  55               1               31                  0   \n",
       "14                  49               5                2                  0   \n",
       "15                  75               5               13                  0   \n",
       "16                  45               4               17                  0   \n",
       "17                  29               0               11                  0   \n",
       "18                  35               5               23                  0   \n",
       "19                  42               2               23                  0   \n",
       "\n",
       "    number_emergency  number_inpatient  diag_1  diag_2 diag_3  \\\n",
       "0                  0                 0  250.83       ?      ?   \n",
       "1                  0                 0     276  250.01    255   \n",
       "2                  0                 1     648     250    V27   \n",
       "3                  0                 0       8  250.43    403   \n",
       "4                  0                 0     197     157    250   \n",
       "5                  0                 0     414     411    250   \n",
       "6                  0                 0     414     411    V45   \n",
       "7                  0                 0     428     492    250   \n",
       "8                  0                 0     398     427     38   \n",
       "9                  0                 0     434     198    486   \n",
       "10                 0                 0   250.7     403    996   \n",
       "11                 0                 0     157     288    197   \n",
       "12                 1                 0     428  250.43  250.6   \n",
       "13                 0                 0     428     411    427   \n",
       "14                 0                 0     518     998    627   \n",
       "15                 0                 0     999     507    996   \n",
       "16                 0                 0     410     411    414   \n",
       "17                 0                 0     682     174    250   \n",
       "18                 0                 0     402     425    416   \n",
       "19                 0                 0     737     427    714   \n",
       "\n",
       "    number_diagnoses change diabatic  \n",
       "0                  1     No       No  \n",
       "1                  9     Ch      Yes  \n",
       "2                  6     No      Yes  \n",
       "3                  7     Ch      Yes  \n",
       "4                  5     Ch      Yes  \n",
       "5                  9     No      Yes  \n",
       "6                  7     Ch      Yes  \n",
       "7                  8     No      Yes  \n",
       "8                  8     Ch      Yes  \n",
       "9                  8     Ch      Yes  \n",
       "10                 9     No      Yes  \n",
       "11                 7     Ch      Yes  \n",
       "12                 8     Ch      Yes  \n",
       "13                 8     No      Yes  \n",
       "14                 8     No      Yes  \n",
       "15                 9     Ch      Yes  \n",
       "16                 8     Ch      Yes  \n",
       "17                 3     No      Yes  \n",
       "18                 9     No      Yes  \n",
       "19                 8     Ch      Yes  "
      ]
     },
     "execution_count": 6,
     "metadata": {},
     "output_type": "execute_result"
    }
   ],
   "source": [
    "df = pd.read_csv(\"dataset_diabetes_diabetic_data.csv\")\n",
    "df.head(20)"
   ]
  },
  {
   "cell_type": "code",
   "execution_count": 7,
   "id": "02efc6ef",
   "metadata": {
    "ExecuteTime": {
     "end_time": "2022-07-21T17:45:26.861967Z",
     "start_time": "2022-07-21T17:45:26.850965Z"
    }
   },
   "outputs": [],
   "source": [
    "df.drop(\"patient_nbr\",axis = 1, inplace = True) #removing patient_nbr column"
   ]
  },
  {
   "cell_type": "code",
   "execution_count": 8,
   "id": "693402ea",
   "metadata": {
    "ExecuteTime": {
     "end_time": "2022-07-21T17:45:37.135454Z",
     "start_time": "2022-07-21T17:45:37.088991Z"
    }
   },
   "outputs": [
    {
     "name": "stdout",
     "output_type": "stream",
     "text": [
      "<class 'pandas.core.frame.DataFrame'>\n",
      "RangeIndex: 70180 entries, 0 to 70179\n",
      "Data columns (total 19 columns):\n",
      " #   Column                    Non-Null Count  Dtype \n",
      "---  ------                    --------------  ----- \n",
      " 0   race                      70180 non-null  object\n",
      " 1   gender                    70180 non-null  object\n",
      " 2   age                       70180 non-null  object\n",
      " 3   admission_type_id         70180 non-null  int64 \n",
      " 4   discharge_disposition_id  70180 non-null  int64 \n",
      " 5   admission_source_id       70180 non-null  int64 \n",
      " 6   time_in_hospital          70180 non-null  int64 \n",
      " 7   num_lab_procedures        70180 non-null  int64 \n",
      " 8   num_procedures            70180 non-null  int64 \n",
      " 9   num_medications           70180 non-null  int64 \n",
      " 10  number_outpatient         70180 non-null  int64 \n",
      " 11  number_emergency          70180 non-null  int64 \n",
      " 12  number_inpatient          70180 non-null  int64 \n",
      " 13  diag_1                    70180 non-null  object\n",
      " 14  diag_2                    70180 non-null  object\n",
      " 15  diag_3                    70180 non-null  object\n",
      " 16  number_diagnoses          70180 non-null  int64 \n",
      " 17  change                    70180 non-null  object\n",
      " 18  diabatic                  70180 non-null  object\n",
      "dtypes: int64(11), object(8)\n",
      "memory usage: 10.2+ MB\n"
     ]
    }
   ],
   "source": [
    "df.info()"
   ]
  },
  {
   "cell_type": "code",
   "execution_count": 9,
   "id": "d2e848e1",
   "metadata": {
    "ExecuteTime": {
     "end_time": "2022-07-21T17:45:51.601138Z",
     "start_time": "2022-07-21T17:45:51.574137Z"
    }
   },
   "outputs": [
    {
     "data": {
      "text/html": [
       "<div>\n",
       "<style scoped>\n",
       "    .dataframe tbody tr th:only-of-type {\n",
       "        vertical-align: middle;\n",
       "    }\n",
       "\n",
       "    .dataframe tbody tr th {\n",
       "        vertical-align: top;\n",
       "    }\n",
       "\n",
       "    .dataframe thead th {\n",
       "        text-align: right;\n",
       "    }\n",
       "</style>\n",
       "<table border=\"1\" class=\"dataframe\">\n",
       "  <thead>\n",
       "    <tr style=\"text-align: right;\">\n",
       "      <th></th>\n",
       "      <th>race</th>\n",
       "      <th>gender</th>\n",
       "      <th>age</th>\n",
       "      <th>admission_type_id</th>\n",
       "      <th>discharge_disposition_id</th>\n",
       "      <th>admission_source_id</th>\n",
       "      <th>time_in_hospital</th>\n",
       "      <th>num_lab_procedures</th>\n",
       "      <th>num_procedures</th>\n",
       "      <th>num_medications</th>\n",
       "      <th>number_outpatient</th>\n",
       "      <th>number_emergency</th>\n",
       "      <th>number_inpatient</th>\n",
       "      <th>diag_1</th>\n",
       "      <th>diag_2</th>\n",
       "      <th>diag_3</th>\n",
       "      <th>number_diagnoses</th>\n",
       "      <th>change</th>\n",
       "      <th>diabatic</th>\n",
       "    </tr>\n",
       "  </thead>\n",
       "  <tbody>\n",
       "    <tr>\n",
       "      <th>0</th>\n",
       "      <td>Caucasian</td>\n",
       "      <td>Female</td>\n",
       "      <td>[0-10)</td>\n",
       "      <td>6</td>\n",
       "      <td>25</td>\n",
       "      <td>1</td>\n",
       "      <td>1</td>\n",
       "      <td>41</td>\n",
       "      <td>0</td>\n",
       "      <td>1</td>\n",
       "      <td>0</td>\n",
       "      <td>0</td>\n",
       "      <td>0</td>\n",
       "      <td>250.83</td>\n",
       "      <td>?</td>\n",
       "      <td>?</td>\n",
       "      <td>1</td>\n",
       "      <td>No</td>\n",
       "      <td>No</td>\n",
       "    </tr>\n",
       "    <tr>\n",
       "      <th>1</th>\n",
       "      <td>Caucasian</td>\n",
       "      <td>Female</td>\n",
       "      <td>[10-20)</td>\n",
       "      <td>1</td>\n",
       "      <td>1</td>\n",
       "      <td>7</td>\n",
       "      <td>3</td>\n",
       "      <td>59</td>\n",
       "      <td>0</td>\n",
       "      <td>18</td>\n",
       "      <td>0</td>\n",
       "      <td>0</td>\n",
       "      <td>0</td>\n",
       "      <td>276</td>\n",
       "      <td>250.01</td>\n",
       "      <td>255</td>\n",
       "      <td>9</td>\n",
       "      <td>Ch</td>\n",
       "      <td>Yes</td>\n",
       "    </tr>\n",
       "    <tr>\n",
       "      <th>2</th>\n",
       "      <td>AfricanAmerican</td>\n",
       "      <td>Female</td>\n",
       "      <td>[20-30)</td>\n",
       "      <td>1</td>\n",
       "      <td>1</td>\n",
       "      <td>7</td>\n",
       "      <td>2</td>\n",
       "      <td>11</td>\n",
       "      <td>5</td>\n",
       "      <td>13</td>\n",
       "      <td>2</td>\n",
       "      <td>0</td>\n",
       "      <td>1</td>\n",
       "      <td>648</td>\n",
       "      <td>250</td>\n",
       "      <td>V27</td>\n",
       "      <td>6</td>\n",
       "      <td>No</td>\n",
       "      <td>Yes</td>\n",
       "    </tr>\n",
       "    <tr>\n",
       "      <th>3</th>\n",
       "      <td>Caucasian</td>\n",
       "      <td>Male</td>\n",
       "      <td>[30-40)</td>\n",
       "      <td>1</td>\n",
       "      <td>1</td>\n",
       "      <td>7</td>\n",
       "      <td>2</td>\n",
       "      <td>44</td>\n",
       "      <td>1</td>\n",
       "      <td>16</td>\n",
       "      <td>0</td>\n",
       "      <td>0</td>\n",
       "      <td>0</td>\n",
       "      <td>8</td>\n",
       "      <td>250.43</td>\n",
       "      <td>403</td>\n",
       "      <td>7</td>\n",
       "      <td>Ch</td>\n",
       "      <td>Yes</td>\n",
       "    </tr>\n",
       "    <tr>\n",
       "      <th>4</th>\n",
       "      <td>Caucasian</td>\n",
       "      <td>Male</td>\n",
       "      <td>[40-50)</td>\n",
       "      <td>1</td>\n",
       "      <td>1</td>\n",
       "      <td>7</td>\n",
       "      <td>1</td>\n",
       "      <td>51</td>\n",
       "      <td>0</td>\n",
       "      <td>8</td>\n",
       "      <td>0</td>\n",
       "      <td>0</td>\n",
       "      <td>0</td>\n",
       "      <td>197</td>\n",
       "      <td>157</td>\n",
       "      <td>250</td>\n",
       "      <td>5</td>\n",
       "      <td>Ch</td>\n",
       "      <td>Yes</td>\n",
       "    </tr>\n",
       "  </tbody>\n",
       "</table>\n",
       "</div>"
      ],
      "text/plain": [
       "              race  gender      age  admission_type_id  \\\n",
       "0        Caucasian  Female   [0-10)                  6   \n",
       "1        Caucasian  Female  [10-20)                  1   \n",
       "2  AfricanAmerican  Female  [20-30)                  1   \n",
       "3        Caucasian    Male  [30-40)                  1   \n",
       "4        Caucasian    Male  [40-50)                  1   \n",
       "\n",
       "   discharge_disposition_id  admission_source_id  time_in_hospital  \\\n",
       "0                        25                    1                 1   \n",
       "1                         1                    7                 3   \n",
       "2                         1                    7                 2   \n",
       "3                         1                    7                 2   \n",
       "4                         1                    7                 1   \n",
       "\n",
       "   num_lab_procedures  num_procedures  num_medications  number_outpatient  \\\n",
       "0                  41               0                1                  0   \n",
       "1                  59               0               18                  0   \n",
       "2                  11               5               13                  2   \n",
       "3                  44               1               16                  0   \n",
       "4                  51               0                8                  0   \n",
       "\n",
       "   number_emergency  number_inpatient  diag_1  diag_2 diag_3  \\\n",
       "0                 0                 0  250.83       ?      ?   \n",
       "1                 0                 0     276  250.01    255   \n",
       "2                 0                 1     648     250    V27   \n",
       "3                 0                 0       8  250.43    403   \n",
       "4                 0                 0     197     157    250   \n",
       "\n",
       "   number_diagnoses change diabatic  \n",
       "0                 1     No       No  \n",
       "1                 9     Ch      Yes  \n",
       "2                 6     No      Yes  \n",
       "3                 7     Ch      Yes  \n",
       "4                 5     Ch      Yes  "
      ]
     },
     "execution_count": 9,
     "metadata": {},
     "output_type": "execute_result"
    }
   ],
   "source": [
    "df.head()"
   ]
  },
  {
   "cell_type": "code",
   "execution_count": 10,
   "id": "db5c4767",
   "metadata": {
    "ExecuteTime": {
     "end_time": "2022-07-21T17:46:22.787085Z",
     "start_time": "2022-07-21T17:46:22.776055Z"
    }
   },
   "outputs": [
    {
     "name": "stdout",
     "output_type": "stream",
     "text": [
      "No. of records: 70180\n"
     ]
    }
   ],
   "source": [
    "print(\"No. of records:\",df.shape[0])"
   ]
  },
  {
   "cell_type": "markdown",
   "id": "c27d8e8a",
   "metadata": {},
   "source": [
    "# Data Cleaning"
   ]
  },
  {
   "cell_type": "code",
   "execution_count": 11,
   "id": "7e0b4f9c",
   "metadata": {
    "ExecuteTime": {
     "end_time": "2022-07-21T17:48:40.830319Z",
     "start_time": "2022-07-21T17:48:40.795345Z"
    }
   },
   "outputs": [
    {
     "data": {
      "text/plain": [
       "19"
      ]
     },
     "execution_count": 11,
     "metadata": {},
     "output_type": "execute_result"
    }
   ],
   "source": [
    "df[df[\"diag_1\"] == '?'][\"diag_1\"].count()\n"
   ]
  },
  {
   "cell_type": "code",
   "execution_count": 13,
   "id": "050818be",
   "metadata": {
    "ExecuteTime": {
     "end_time": "2022-07-21T17:49:24.683875Z",
     "start_time": "2022-07-21T17:49:24.665919Z"
    }
   },
   "outputs": [
    {
     "data": {
      "text/plain": [
       "304"
      ]
     },
     "execution_count": 13,
     "metadata": {},
     "output_type": "execute_result"
    }
   ],
   "source": [
    "df[df[\"diag_2\"] == '?'][\"diag_2\"].count()"
   ]
  },
  {
   "cell_type": "code",
   "execution_count": 14,
   "id": "6cfec845",
   "metadata": {
    "ExecuteTime": {
     "end_time": "2022-07-21T17:49:37.072807Z",
     "start_time": "2022-07-21T17:49:37.060832Z"
    }
   },
   "outputs": [
    {
     "data": {
      "text/plain": [
       "1237"
      ]
     },
     "execution_count": 14,
     "metadata": {},
     "output_type": "execute_result"
    }
   ],
   "source": [
    "df[df[\"diag_3\"] == '?'][\"diag_3\"].count()"
   ]
  },
  {
   "cell_type": "code",
   "execution_count": 15,
   "id": "d2b7d8ac",
   "metadata": {
    "ExecuteTime": {
     "end_time": "2022-07-21T17:50:11.865147Z",
     "start_time": "2022-07-21T17:50:11.839207Z"
    }
   },
   "outputs": [
    {
     "data": {
      "text/html": [
       "<div>\n",
       "<style scoped>\n",
       "    .dataframe tbody tr th:only-of-type {\n",
       "        vertical-align: middle;\n",
       "    }\n",
       "\n",
       "    .dataframe tbody tr th {\n",
       "        vertical-align: top;\n",
       "    }\n",
       "\n",
       "    .dataframe thead th {\n",
       "        text-align: right;\n",
       "    }\n",
       "</style>\n",
       "<table border=\"1\" class=\"dataframe\">\n",
       "  <thead>\n",
       "    <tr style=\"text-align: right;\">\n",
       "      <th></th>\n",
       "      <th>race</th>\n",
       "      <th>gender</th>\n",
       "      <th>age</th>\n",
       "      <th>admission_type_id</th>\n",
       "      <th>discharge_disposition_id</th>\n",
       "      <th>admission_source_id</th>\n",
       "      <th>time_in_hospital</th>\n",
       "      <th>num_lab_procedures</th>\n",
       "      <th>num_procedures</th>\n",
       "      <th>num_medications</th>\n",
       "      <th>number_outpatient</th>\n",
       "      <th>number_emergency</th>\n",
       "      <th>number_inpatient</th>\n",
       "      <th>diag_1</th>\n",
       "      <th>diag_2</th>\n",
       "      <th>diag_3</th>\n",
       "      <th>number_diagnoses</th>\n",
       "      <th>change</th>\n",
       "      <th>diabatic</th>\n",
       "    </tr>\n",
       "  </thead>\n",
       "  <tbody>\n",
       "    <tr>\n",
       "      <th>0</th>\n",
       "      <td>Caucasian</td>\n",
       "      <td>Female</td>\n",
       "      <td>[0-10)</td>\n",
       "      <td>6</td>\n",
       "      <td>25</td>\n",
       "      <td>1</td>\n",
       "      <td>1</td>\n",
       "      <td>41</td>\n",
       "      <td>0</td>\n",
       "      <td>1</td>\n",
       "      <td>0</td>\n",
       "      <td>0</td>\n",
       "      <td>0</td>\n",
       "      <td>250.83</td>\n",
       "      <td>?</td>\n",
       "      <td>?</td>\n",
       "      <td>1</td>\n",
       "      <td>No</td>\n",
       "      <td>No</td>\n",
       "    </tr>\n",
       "    <tr>\n",
       "      <th>1</th>\n",
       "      <td>Caucasian</td>\n",
       "      <td>Female</td>\n",
       "      <td>[10-20)</td>\n",
       "      <td>1</td>\n",
       "      <td>1</td>\n",
       "      <td>7</td>\n",
       "      <td>3</td>\n",
       "      <td>59</td>\n",
       "      <td>0</td>\n",
       "      <td>18</td>\n",
       "      <td>0</td>\n",
       "      <td>0</td>\n",
       "      <td>0</td>\n",
       "      <td>276</td>\n",
       "      <td>250.01</td>\n",
       "      <td>255</td>\n",
       "      <td>9</td>\n",
       "      <td>Ch</td>\n",
       "      <td>Yes</td>\n",
       "    </tr>\n",
       "    <tr>\n",
       "      <th>2</th>\n",
       "      <td>AfricanAmerican</td>\n",
       "      <td>Female</td>\n",
       "      <td>[20-30)</td>\n",
       "      <td>1</td>\n",
       "      <td>1</td>\n",
       "      <td>7</td>\n",
       "      <td>2</td>\n",
       "      <td>11</td>\n",
       "      <td>5</td>\n",
       "      <td>13</td>\n",
       "      <td>2</td>\n",
       "      <td>0</td>\n",
       "      <td>1</td>\n",
       "      <td>648</td>\n",
       "      <td>250</td>\n",
       "      <td>V27</td>\n",
       "      <td>6</td>\n",
       "      <td>No</td>\n",
       "      <td>Yes</td>\n",
       "    </tr>\n",
       "    <tr>\n",
       "      <th>3</th>\n",
       "      <td>Caucasian</td>\n",
       "      <td>Male</td>\n",
       "      <td>[30-40)</td>\n",
       "      <td>1</td>\n",
       "      <td>1</td>\n",
       "      <td>7</td>\n",
       "      <td>2</td>\n",
       "      <td>44</td>\n",
       "      <td>1</td>\n",
       "      <td>16</td>\n",
       "      <td>0</td>\n",
       "      <td>0</td>\n",
       "      <td>0</td>\n",
       "      <td>8</td>\n",
       "      <td>250.43</td>\n",
       "      <td>403</td>\n",
       "      <td>7</td>\n",
       "      <td>Ch</td>\n",
       "      <td>Yes</td>\n",
       "    </tr>\n",
       "    <tr>\n",
       "      <th>4</th>\n",
       "      <td>Caucasian</td>\n",
       "      <td>Male</td>\n",
       "      <td>[40-50)</td>\n",
       "      <td>1</td>\n",
       "      <td>1</td>\n",
       "      <td>7</td>\n",
       "      <td>1</td>\n",
       "      <td>51</td>\n",
       "      <td>0</td>\n",
       "      <td>8</td>\n",
       "      <td>0</td>\n",
       "      <td>0</td>\n",
       "      <td>0</td>\n",
       "      <td>197</td>\n",
       "      <td>157</td>\n",
       "      <td>250</td>\n",
       "      <td>5</td>\n",
       "      <td>Ch</td>\n",
       "      <td>Yes</td>\n",
       "    </tr>\n",
       "    <tr>\n",
       "      <th>5</th>\n",
       "      <td>Caucasian</td>\n",
       "      <td>Male</td>\n",
       "      <td>[50-60)</td>\n",
       "      <td>2</td>\n",
       "      <td>1</td>\n",
       "      <td>2</td>\n",
       "      <td>3</td>\n",
       "      <td>31</td>\n",
       "      <td>6</td>\n",
       "      <td>16</td>\n",
       "      <td>0</td>\n",
       "      <td>0</td>\n",
       "      <td>0</td>\n",
       "      <td>414</td>\n",
       "      <td>411</td>\n",
       "      <td>250</td>\n",
       "      <td>9</td>\n",
       "      <td>No</td>\n",
       "      <td>Yes</td>\n",
       "    </tr>\n",
       "    <tr>\n",
       "      <th>6</th>\n",
       "      <td>Caucasian</td>\n",
       "      <td>Male</td>\n",
       "      <td>[60-70)</td>\n",
       "      <td>3</td>\n",
       "      <td>1</td>\n",
       "      <td>2</td>\n",
       "      <td>4</td>\n",
       "      <td>70</td>\n",
       "      <td>1</td>\n",
       "      <td>21</td>\n",
       "      <td>0</td>\n",
       "      <td>0</td>\n",
       "      <td>0</td>\n",
       "      <td>414</td>\n",
       "      <td>411</td>\n",
       "      <td>V45</td>\n",
       "      <td>7</td>\n",
       "      <td>Ch</td>\n",
       "      <td>Yes</td>\n",
       "    </tr>\n",
       "    <tr>\n",
       "      <th>7</th>\n",
       "      <td>Caucasian</td>\n",
       "      <td>Male</td>\n",
       "      <td>[70-80)</td>\n",
       "      <td>1</td>\n",
       "      <td>1</td>\n",
       "      <td>7</td>\n",
       "      <td>5</td>\n",
       "      <td>73</td>\n",
       "      <td>0</td>\n",
       "      <td>12</td>\n",
       "      <td>0</td>\n",
       "      <td>0</td>\n",
       "      <td>0</td>\n",
       "      <td>428</td>\n",
       "      <td>492</td>\n",
       "      <td>250</td>\n",
       "      <td>8</td>\n",
       "      <td>No</td>\n",
       "      <td>Yes</td>\n",
       "    </tr>\n",
       "    <tr>\n",
       "      <th>8</th>\n",
       "      <td>Caucasian</td>\n",
       "      <td>Female</td>\n",
       "      <td>[80-90)</td>\n",
       "      <td>2</td>\n",
       "      <td>1</td>\n",
       "      <td>4</td>\n",
       "      <td>13</td>\n",
       "      <td>68</td>\n",
       "      <td>2</td>\n",
       "      <td>28</td>\n",
       "      <td>0</td>\n",
       "      <td>0</td>\n",
       "      <td>0</td>\n",
       "      <td>398</td>\n",
       "      <td>427</td>\n",
       "      <td>38</td>\n",
       "      <td>8</td>\n",
       "      <td>Ch</td>\n",
       "      <td>Yes</td>\n",
       "    </tr>\n",
       "    <tr>\n",
       "      <th>9</th>\n",
       "      <td>Caucasian</td>\n",
       "      <td>Female</td>\n",
       "      <td>[90-100)</td>\n",
       "      <td>3</td>\n",
       "      <td>3</td>\n",
       "      <td>4</td>\n",
       "      <td>12</td>\n",
       "      <td>33</td>\n",
       "      <td>3</td>\n",
       "      <td>18</td>\n",
       "      <td>0</td>\n",
       "      <td>0</td>\n",
       "      <td>0</td>\n",
       "      <td>434</td>\n",
       "      <td>198</td>\n",
       "      <td>486</td>\n",
       "      <td>8</td>\n",
       "      <td>Ch</td>\n",
       "      <td>Yes</td>\n",
       "    </tr>\n",
       "  </tbody>\n",
       "</table>\n",
       "</div>"
      ],
      "text/plain": [
       "              race  gender       age  admission_type_id  \\\n",
       "0        Caucasian  Female    [0-10)                  6   \n",
       "1        Caucasian  Female   [10-20)                  1   \n",
       "2  AfricanAmerican  Female   [20-30)                  1   \n",
       "3        Caucasian    Male   [30-40)                  1   \n",
       "4        Caucasian    Male   [40-50)                  1   \n",
       "5        Caucasian    Male   [50-60)                  2   \n",
       "6        Caucasian    Male   [60-70)                  3   \n",
       "7        Caucasian    Male   [70-80)                  1   \n",
       "8        Caucasian  Female   [80-90)                  2   \n",
       "9        Caucasian  Female  [90-100)                  3   \n",
       "\n",
       "   discharge_disposition_id  admission_source_id  time_in_hospital  \\\n",
       "0                        25                    1                 1   \n",
       "1                         1                    7                 3   \n",
       "2                         1                    7                 2   \n",
       "3                         1                    7                 2   \n",
       "4                         1                    7                 1   \n",
       "5                         1                    2                 3   \n",
       "6                         1                    2                 4   \n",
       "7                         1                    7                 5   \n",
       "8                         1                    4                13   \n",
       "9                         3                    4                12   \n",
       "\n",
       "   num_lab_procedures  num_procedures  num_medications  number_outpatient  \\\n",
       "0                  41               0                1                  0   \n",
       "1                  59               0               18                  0   \n",
       "2                  11               5               13                  2   \n",
       "3                  44               1               16                  0   \n",
       "4                  51               0                8                  0   \n",
       "5                  31               6               16                  0   \n",
       "6                  70               1               21                  0   \n",
       "7                  73               0               12                  0   \n",
       "8                  68               2               28                  0   \n",
       "9                  33               3               18                  0   \n",
       "\n",
       "   number_emergency  number_inpatient  diag_1  diag_2 diag_3  \\\n",
       "0                 0                 0  250.83       ?      ?   \n",
       "1                 0                 0     276  250.01    255   \n",
       "2                 0                 1     648     250    V27   \n",
       "3                 0                 0       8  250.43    403   \n",
       "4                 0                 0     197     157    250   \n",
       "5                 0                 0     414     411    250   \n",
       "6                 0                 0     414     411    V45   \n",
       "7                 0                 0     428     492    250   \n",
       "8                 0                 0     398     427     38   \n",
       "9                 0                 0     434     198    486   \n",
       "\n",
       "   number_diagnoses change diabatic  \n",
       "0                 1     No       No  \n",
       "1                 9     Ch      Yes  \n",
       "2                 6     No      Yes  \n",
       "3                 7     Ch      Yes  \n",
       "4                 5     Ch      Yes  \n",
       "5                 9     No      Yes  \n",
       "6                 7     Ch      Yes  \n",
       "7                 8     No      Yes  \n",
       "8                 8     Ch      Yes  \n",
       "9                 8     Ch      Yes  "
      ]
     },
     "execution_count": 15,
     "metadata": {},
     "output_type": "execute_result"
    }
   ],
   "source": [
    "df.head(10)"
   ]
  },
  {
   "cell_type": "code",
   "execution_count": 20,
   "id": "a927205a",
   "metadata": {
    "ExecuteTime": {
     "end_time": "2022-07-21T17:53:04.196937Z",
     "start_time": "2022-07-21T17:53:04.124845Z"
    }
   },
   "outputs": [
    {
     "name": "stdout",
     "output_type": "stream",
     "text": [
      "race : 1461\n",
      "diag_1 : 19\n",
      "diag_2 : 304\n",
      "diag_3 : 1237\n",
      "4\n"
     ]
    }
   ],
   "source": [
    "c = 0\n",
    "for col in df.columns:\n",
    "    if (df[df[col] == '?'][col].count()) > 0:\n",
    "        print(col,\":\",df[df[col] == '?'][col].count())\n",
    "        c+=1\n",
    "print(c)"
   ]
  },
  {
   "cell_type": "code",
   "execution_count": 21,
   "id": "7f429749",
   "metadata": {
    "ExecuteTime": {
     "end_time": "2022-07-21T17:53:28.425701Z",
     "start_time": "2022-07-21T17:53:28.415711Z"
    }
   },
   "outputs": [
    {
     "data": {
      "text/plain": [
       "(70180, 19)"
      ]
     },
     "execution_count": 21,
     "metadata": {},
     "output_type": "execute_result"
    }
   ],
   "source": [
    "len(df)\n",
    "df.shape"
   ]
  },
  {
   "cell_type": "code",
   "execution_count": 22,
   "id": "6edf04aa",
   "metadata": {
    "ExecuteTime": {
     "end_time": "2022-07-21T17:54:26.182138Z",
     "start_time": "2022-07-21T17:54:23.175149Z"
    }
   },
   "outputs": [
    {
     "name": "stdout",
     "output_type": "stream",
     "text": [
      "0\n"
     ]
    }
   ],
   "source": [
    "c = 0\n",
    "for index, row in df.iterrows():\n",
    "    if (row[\"race\"] == '?')&(row[\"diag_1\"] == '?')&(row[\"diag_2\"] == '?')&(row[\"diag_3\"] == '?'):\n",
    "        c+=1\n",
    "print(c)"
   ]
  },
  {
   "cell_type": "code",
   "execution_count": 23,
   "id": "66a31726",
   "metadata": {
    "ExecuteTime": {
     "end_time": "2022-07-21T17:54:49.093181Z",
     "start_time": "2022-07-21T17:54:49.083200Z"
    }
   },
   "outputs": [
    {
     "data": {
      "text/plain": [
       "(70180, 19)"
      ]
     },
     "execution_count": 23,
     "metadata": {},
     "output_type": "execute_result"
    }
   ],
   "source": [
    "len(df)\n",
    "df.shape"
   ]
  },
  {
   "cell_type": "code",
   "execution_count": 27,
   "id": "bb5e3d83",
   "metadata": {
    "ExecuteTime": {
     "end_time": "2022-07-21T17:55:35.740834Z",
     "start_time": "2022-07-21T17:55:35.729823Z"
    }
   },
   "outputs": [
    {
     "data": {
      "text/plain": [
       "70180"
      ]
     },
     "execution_count": 27,
     "metadata": {},
     "output_type": "execute_result"
    }
   ],
   "source": [
    "df.shape[0]"
   ]
  },
  {
   "cell_type": "code",
   "execution_count": 28,
   "id": "77805be9",
   "metadata": {
    "ExecuteTime": {
     "end_time": "2022-07-21T17:56:26.519966Z",
     "start_time": "2022-07-21T17:56:26.507967Z"
    }
   },
   "outputs": [],
   "source": [
    "df.drop([\"diag_1\",\"diag_2\",\"diag_3\"],axis = 1, inplace= True)"
   ]
  },
  {
   "cell_type": "code",
   "execution_count": 29,
   "id": "8a893162",
   "metadata": {
    "ExecuteTime": {
     "end_time": "2022-07-21T17:56:37.730744Z",
     "start_time": "2022-07-21T17:56:37.673780Z"
    }
   },
   "outputs": [],
   "source": [
    "df.drop_duplicates(keep='first',inplace=True)"
   ]
  },
  {
   "cell_type": "markdown",
   "id": "60738a23",
   "metadata": {},
   "source": [
    "# Heatmap"
   ]
  },
  {
   "cell_type": "code",
   "execution_count": 30,
   "id": "8f52a582",
   "metadata": {
    "ExecuteTime": {
     "end_time": "2022-07-21T17:57:04.339216Z",
     "start_time": "2022-07-21T17:57:03.601870Z"
    }
   },
   "outputs": [
    {
     "data": {
      "text/plain": [
       "<AxesSubplot:>"
      ]
     },
     "execution_count": 30,
     "metadata": {},
     "output_type": "execute_result"
    },
    {
     "data": {
      "image/png": "[encoded data removed]",
      "text/plain": [
       "<Figure size 1800x720 with 2 Axes>"
      ]
     },
     "metadata": {
      "needs_background": "light"
     },
     "output_type": "display_data"
    }
   ],
   "source": [
    "plt.figure(figsize = (25,10))\n",
    "sns.heatmap(df.corr(),annot = True)"
   ]
  },
  {
   "cell_type": "code",
   "execution_count": 32,
   "id": "fa1ac6ee",
   "metadata": {
    "ExecuteTime": {
     "end_time": "2022-07-21T18:02:17.359394Z",
     "start_time": "2022-07-21T18:02:17.111118Z"
    }
   },
   "outputs": [
    {
     "data": {
      "text/plain": [
       "<AxesSubplot:>"
      ]
     },
     "execution_count": 32,
     "metadata": {},
     "output_type": "execute_result"
    },
    {
     "data": {
      "image/png": "[encoded data removed]",
      "text/plain": [
       "<Figure size 432x288 with 2 Axes>"
      ]
     },
     "metadata": {
      "needs_background": "light"
     },
     "output_type": "display_data"
    }
   ],
   "source": [
    "corr_data = df\n",
    "corr = corr_data.corr()\n",
    "sns.heatmap(corr,annot_kws={'size':10})"
   ]
  },
  {
   "cell_type": "markdown",
   "id": "e1a804cb",
   "metadata": {},
   "source": [
    "# Dist Plot"
   ]
  },
  {
   "cell_type": "code",
   "execution_count": 41,
   "id": "c4e74d04",
   "metadata": {
    "ExecuteTime": {
     "end_time": "2022-07-21T18:19:05.177859Z",
     "start_time": "2022-07-21T18:19:05.167859Z"
    }
   },
   "outputs": [],
   "source": [
    "d0=df.copy()\n",
    "columns=d0.columns"
   ]
  },
  {
   "cell_type": "code",
   "execution_count": 54,
   "id": "de6cefd4",
   "metadata": {
    "ExecuteTime": {
     "end_time": "2022-07-21T18:29:12.788632Z",
     "start_time": "2022-07-21T18:29:06.678208Z"
    }
   },
   "outputs": [
    {
     "name": "stderr",
     "output_type": "stream",
     "text": [
      "C:\\Users\\dwive\\anaconda3\\lib\\site-packages\\seaborn\\distributions.py:2619: FutureWarning: `distplot` is a deprecated function and will be removed in a future version. Please adapt your code to use either `displot` (a figure-level function with similar flexibility) or `histplot` (an axes-level function for histograms).\n",
      "  warnings.warn(msg, FutureWarning)\n",
      "C:\\Users\\dwive\\anaconda3\\lib\\site-packages\\seaborn\\distributions.py:2619: FutureWarning: `distplot` is a deprecated function and will be removed in a future version. Please adapt your code to use either `displot` (a figure-level function with similar flexibility) or `histplot` (an axes-level function for histograms).\n",
      "  warnings.warn(msg, FutureWarning)\n",
      "C:\\Users\\dwive\\anaconda3\\lib\\site-packages\\seaborn\\distributions.py:2619: FutureWarning: `distplot` is a deprecated function and will be removed in a future version. Please adapt your code to use either `displot` (a figure-level function with similar flexibility) or `histplot` (an axes-level function for histograms).\n",
      "  warnings.warn(msg, FutureWarning)\n",
      "C:\\Users\\dwive\\anaconda3\\lib\\site-packages\\seaborn\\distributions.py:2619: FutureWarning: `distplot` is a deprecated function and will be removed in a future version. Please adapt your code to use either `displot` (a figure-level function with similar flexibility) or `histplot` (an axes-level function for histograms).\n",
      "  warnings.warn(msg, FutureWarning)\n",
      "C:\\Users\\dwive\\anaconda3\\lib\\site-packages\\seaborn\\distributions.py:2619: FutureWarning: `distplot` is a deprecated function and will be removed in a future version. Please adapt your code to use either `displot` (a figure-level function with similar flexibility) or `histplot` (an axes-level function for histograms).\n",
      "  warnings.warn(msg, FutureWarning)\n",
      "C:\\Users\\dwive\\anaconda3\\lib\\site-packages\\seaborn\\distributions.py:2619: FutureWarning: `distplot` is a deprecated function and will be removed in a future version. Please adapt your code to use either `displot` (a figure-level function with similar flexibility) or `histplot` (an axes-level function for histograms).\n",
      "  warnings.warn(msg, FutureWarning)\n",
      "C:\\Users\\dwive\\anaconda3\\lib\\site-packages\\seaborn\\distributions.py:2619: FutureWarning: `distplot` is a deprecated function and will be removed in a future version. Please adapt your code to use either `displot` (a figure-level function with similar flexibility) or `histplot` (an axes-level function for histograms).\n",
      "  warnings.warn(msg, FutureWarning)\n",
      "C:\\Users\\dwive\\anaconda3\\lib\\site-packages\\seaborn\\distributions.py:2619: FutureWarning: `distplot` is a deprecated function and will be removed in a future version. Please adapt your code to use either `displot` (a figure-level function with similar flexibility) or `histplot` (an axes-level function for histograms).\n",
      "  warnings.warn(msg, FutureWarning)\n",
      "C:\\Users\\dwive\\anaconda3\\lib\\site-packages\\seaborn\\distributions.py:2619: FutureWarning: `distplot` is a deprecated function and will be removed in a future version. Please adapt your code to use either `displot` (a figure-level function with similar flexibility) or `histplot` (an axes-level function for histograms).\n",
      "  warnings.warn(msg, FutureWarning)\n",
      "C:\\Users\\dwive\\anaconda3\\lib\\site-packages\\seaborn\\distributions.py:2619: FutureWarning: `distplot` is a deprecated function and will be removed in a future version. Please adapt your code to use either `displot` (a figure-level function with similar flexibility) or `histplot` (an axes-level function for histograms).\n",
      "  warnings.warn(msg, FutureWarning)\n",
      "C:\\Users\\dwive\\anaconda3\\lib\\site-packages\\seaborn\\distributions.py:2619: FutureWarning: `distplot` is a deprecated function and will be removed in a future version. Please adapt your code to use either `displot` (a figure-level function with similar flexibility) or `histplot` (an axes-level function for histograms).\n",
      "  warnings.warn(msg, FutureWarning)\n"
     ]
    },
    {
     "data": {
      "image/png": "[encoded data removed]",
      "text/plain": [
       "<Figure size 1080x1080 with 15 Axes>"
      ]
     },
     "metadata": {
      "needs_background": "light"
     },
     "output_type": "display_data"
    }
   ],
   "source": [
    "columns=[ 'admission_type_id', 'discharge_disposition_id',\n",
    "       'admission_source_id', 'time_in_hospital', 'num_lab_procedures',\n",
    "       'num_procedures', 'num_medications', 'number_outpatient',\n",
    "       'number_emergency', 'number_inpatient', 'number_diagnoses']\n",
    "fig,ax = plt.subplots(5,3,figsize=(15,15))\n",
    "ax = ax.flatten()\n",
    "for i,col in enumerate(columns):\n",
    "    sns.distplot(d0[col],ax=ax[i],color='blue')\n",
    "plt.tight_layout()\n",
    "plt.show()"
   ]
  },
  {
   "cell_type": "code",
   "execution_count": 55,
   "id": "1c499b98",
   "metadata": {
    "ExecuteTime": {
     "end_time": "2022-07-21T18:29:46.124874Z",
     "start_time": "2022-07-21T18:29:46.098809Z"
    }
   },
   "outputs": [
    {
     "name": "stdout",
     "output_type": "stream",
     "text": [
      "<class 'pandas.core.frame.DataFrame'>\n",
      "Int64Index: 70158 entries, 0 to 70179\n",
      "Data columns (total 16 columns):\n",
      " #   Column                    Non-Null Count  Dtype \n",
      "---  ------                    --------------  ----- \n",
      " 0   race                      70158 non-null  object\n",
      " 1   gender                    70158 non-null  object\n",
      " 2   age                       70158 non-null  object\n",
      " 3   admission_type_id         70158 non-null  int64 \n",
      " 4   discharge_disposition_id  70158 non-null  int64 \n",
      " 5   admission_source_id       70158 non-null  int64 \n",
      " 6   time_in_hospital          70158 non-null  int64 \n",
      " 7   num_lab_procedures        70158 non-null  int64 \n",
      " 8   num_procedures            70158 non-null  int64 \n",
      " 9   num_medications           70158 non-null  int64 \n",
      " 10  number_outpatient         70158 non-null  int64 \n",
      " 11  number_emergency          70158 non-null  int64 \n",
      " 12  number_inpatient          70158 non-null  int64 \n",
      " 13  number_diagnoses          70158 non-null  int64 \n",
      " 14  change                    70158 non-null  object\n",
      " 15  diabatic                  70158 non-null  object\n",
      "dtypes: int64(11), object(5)\n",
      "memory usage: 9.1+ MB\n"
     ]
    }
   ],
   "source": [
    "df.info()"
   ]
  },
  {
   "cell_type": "markdown",
   "id": "cde708c8",
   "metadata": {},
   "source": [
    "# MODELLING"
   ]
  },
  {
   "cell_type": "code",
   "execution_count": 56,
   "id": "229cfe3f",
   "metadata": {
    "ExecuteTime": {
     "end_time": "2022-07-21T18:31:05.355846Z",
     "start_time": "2022-07-21T18:31:05.174899Z"
    }
   },
   "outputs": [],
   "source": [
    "from sklearn.metrics import accuracy_score,confusion_matrix,auc\n",
    "from sklearn.preprocessing import LabelEncoder"
   ]
  },
  {
   "cell_type": "code",
   "execution_count": 58,
   "id": "37858d96",
   "metadata": {
    "ExecuteTime": {
     "end_time": "2022-07-21T18:36:28.810976Z",
     "start_time": "2022-07-21T18:36:28.800975Z"
    }
   },
   "outputs": [],
   "source": [
    "a = LabelEncoder()"
   ]
  },
  {
   "cell_type": "code",
   "execution_count": 60,
   "id": "31412ed5",
   "metadata": {
    "ExecuteTime": {
     "end_time": "2022-07-21T18:36:46.352735Z",
     "start_time": "2022-07-21T18:36:46.281479Z"
    }
   },
   "outputs": [],
   "source": [
    "df[\"race\"] = a.fit_transform(df[\"race\"])\n",
    "df[\"age\"] = a.fit_transform(df[\"age\"])\n",
    "df[\"gender\"] = a.fit_transform(df[\"gender\"])\n",
    "df[\"change\"] = a.fit_transform(df[\"change\"])\n",
    "df[\"diabatic\"] = a.fit_transform(df[\"diabatic\"])"
   ]
  },
  {
   "cell_type": "code",
   "execution_count": 73,
   "id": "4a3fbbdd",
   "metadata": {
    "ExecuteTime": {
     "end_time": "2022-07-21T18:41:54.971827Z",
     "start_time": "2022-07-21T18:41:54.960826Z"
    }
   },
   "outputs": [],
   "source": [
    "X = df.drop(\"diabatic\", axis = 1)\n",
    "y = df.diabatic"
   ]
  },
  {
   "cell_type": "markdown",
   "id": "1fcda325",
   "metadata": {
    "ExecuteTime": {
     "end_time": "2022-07-21T18:42:05.801930Z",
     "start_time": "2022-07-21T18:42:05.776934Z"
    }
   },
   "source": [
    "from sklearn.model_selection import train_test_split\n",
    "X_train, X_test, y_train, y_test = train_test_split(X, y, test_size=0.3, random_state=1)\n",
    "\n",
    "print(X_train.shape)\n",
    "print(X_test.shape)\n",
    "print(y_train.shape)\n",
    "print(y_test.shape)"
   ]
  },
  {
   "cell_type": "markdown",
   "id": "a77b7f28",
   "metadata": {},
   "source": [
    "# Logistic Regression"
   ]
  },
  {
   "cell_type": "code",
   "execution_count": 76,
   "id": "1406b113",
   "metadata": {
    "ExecuteTime": {
     "end_time": "2022-07-21T18:42:58.538246Z",
     "start_time": "2022-07-21T18:42:55.199247Z"
    },
    "scrolled": true
   },
   "outputs": [
    {
     "name": "stderr",
     "output_type": "stream",
     "text": [
      "C:\\Users\\dwive\\anaconda3\\lib\\site-packages\\sklearn\\linear_model\\_logistic.py:763: ConvergenceWarning: lbfgs failed to converge (status=1):\n",
      "STOP: TOTAL NO. of ITERATIONS REACHED LIMIT.\n",
      "\n",
      "Increase the number of iterations (max_iter) or scale the data as shown in:\n",
      "    https://scikit-learn.org/stable/modules/preprocessing.html\n",
      "Please also refer to the documentation for alternative solver options:\n",
      "    https://scikit-learn.org/stable/modules/linear_model.html#logistic-regression\n",
      "  n_iter_i = _check_optimize_result(\n"
     ]
    },
    {
     "data": {
      "text/plain": [
       "LogisticRegression()"
      ]
     },
     "execution_count": 76,
     "metadata": {},
     "output_type": "execute_result"
    }
   ],
   "source": [
    "from sklearn.linear_model import LogisticRegression\n",
    "model1 = LogisticRegression()\n",
    "model1.fit(X_train, y_train)"
   ]
  },
  {
   "cell_type": "code",
   "execution_count": 77,
   "id": "97d2d4e9",
   "metadata": {
    "ExecuteTime": {
     "end_time": "2022-07-21T18:43:26.425288Z",
     "start_time": "2022-07-21T18:43:26.399284Z"
    }
   },
   "outputs": [
    {
     "name": "stdout",
     "output_type": "stream",
     "text": [
      "Training score = 0.7339034819792303\n",
      "Test score = 0.7351767388825542\n"
     ]
    }
   ],
   "source": [
    "print('Training score =', model1.score(X_train, y_train))\n",
    "print('Test score =', model1.score(X_test, y_test))"
   ]
  },
  {
   "cell_type": "markdown",
   "id": "5b8ccc5f",
   "metadata": {},
   "source": [
    "# ROC AUC curve"
   ]
  },
  {
   "cell_type": "code",
   "execution_count": 78,
   "id": "999a0463",
   "metadata": {
    "ExecuteTime": {
     "end_time": "2022-07-21T18:43:30.633115Z",
     "start_time": "2022-07-21T18:43:30.496169Z"
    }
   },
   "outputs": [
    {
     "name": "stdout",
     "output_type": "stream",
     "text": [
      "ROC AUC = 0.8261178431541152\n"
     ]
    },
    {
     "data": {
      "image/png": "[encoded data removed]",
      "text/plain": [
       "<Figure size 432x288 with 1 Axes>"
      ]
     },
     "metadata": {
      "needs_background": "light"
     },
     "output_type": "display_data"
    }
   ],
   "source": [
    "from sklearn.metrics import roc_curve,roc_auc_score\n",
    "ypred = model1.predict_proba(X_test)\n",
    "fpr,tpr,threshold = roc_curve(y_test,ypred[:,1])\n",
    "roc_auc = roc_auc_score(y_test,ypred[:,1])\n",
    "\n",
    "print('ROC AUC =', roc_auc)\n",
    "plt.figure()\n",
    "lw = 2\n",
    "plt.plot(fpr,tpr,color='darkorange',lw=lw,label='ROC Curve (area = %0.2f)'%roc_auc)\n",
    "plt.plot([0,1],[0,1],color='navy',lw=lw,linestyle='--')\n",
    "plt.xlim([0.0, 1.0])\n",
    "plt.ylim([0.0, 1.05])\n",
    "plt.xlabel('FPR')\n",
    "plt.ylabel('TPR')\n",
    "plt.title('ROC Curve')\n",
    "plt.legend(loc='lower right')\n",
    "plt.show()"
   ]
  },
  {
   "cell_type": "code",
   "execution_count": 79,
   "id": "ca58b710",
   "metadata": {
    "ExecuteTime": {
     "end_time": "2022-07-21T18:49:36.824115Z",
     "start_time": "2022-07-21T18:49:36.735908Z"
    }
   },
   "outputs": [],
   "source": [
    "from sklearn.tree import DecisionTreeClassifier"
   ]
  },
  {
   "cell_type": "code",
   "execution_count": 80,
   "id": "4cb17aea",
   "metadata": {
    "ExecuteTime": {
     "end_time": "2022-07-21T18:50:05.127640Z",
     "start_time": "2022-07-21T18:50:05.118653Z"
    }
   },
   "outputs": [],
   "source": [
    "model2 = DecisionTreeClassifier()\n"
   ]
  },
  {
   "cell_type": "code",
   "execution_count": 82,
   "id": "4730ed61",
   "metadata": {
    "ExecuteTime": {
     "end_time": "2022-07-21T18:50:38.267567Z",
     "start_time": "2022-07-21T18:50:38.098081Z"
    }
   },
   "outputs": [
    {
     "data": {
      "text/plain": [
       "DecisionTreeClassifier()"
      ]
     },
     "execution_count": 82,
     "metadata": {},
     "output_type": "execute_result"
    }
   ],
   "source": [
    "model2.fit(X_train,y_train)"
   ]
  },
  {
   "cell_type": "code",
   "execution_count": 84,
   "id": "918e2000",
   "metadata": {
    "ExecuteTime": {
     "end_time": "2022-07-21T18:50:59.297203Z",
     "start_time": "2022-07-21T18:50:59.272220Z"
    }
   },
   "outputs": [],
   "source": [
    "y_pred = model2.predict(X_test)"
   ]
  },
  {
   "cell_type": "code",
   "execution_count": 85,
   "id": "0564eeb0",
   "metadata": {
    "ExecuteTime": {
     "end_time": "2022-07-21T18:51:14.398158Z",
     "start_time": "2022-07-21T18:51:14.387112Z"
    }
   },
   "outputs": [
    {
     "data": {
      "text/plain": [
       "0.7109939186621057"
      ]
     },
     "execution_count": 85,
     "metadata": {},
     "output_type": "execute_result"
    }
   ],
   "source": [
    "accuracy_score(y_pred,y_test)"
   ]
  },
  {
   "cell_type": "markdown",
   "id": "8a345eea",
   "metadata": {},
   "source": [
    "\n",
    "# confusion matrix"
   ]
  },
  {
   "cell_type": "code",
   "execution_count": 89,
   "id": "adeb7539",
   "metadata": {
    "ExecuteTime": {
     "end_time": "2022-07-21T18:54:18.400762Z",
     "start_time": "2022-07-21T18:54:18.247545Z"
    }
   },
   "outputs": [
    {
     "data": {
      "text/plain": [
       "<AxesSubplot:>"
      ]
     },
     "execution_count": 89,
     "metadata": {},
     "output_type": "execute_result"
    },
    {
     "data": {
      "image/png": "[encoded data removed]",
      "text/plain": [
       "<Figure size 432x288 with 2 Axes>"
      ]
     },
     "metadata": {
      "needs_background": "light"
     },
     "output_type": "display_data"
    }
   ],
   "source": [
    "\n",
    "sns.heatmap(confusion_matrix(y_test,model2.predict(X_test)),annot = True)"
   ]
  },
  {
   "cell_type": "markdown",
   "id": "21f18860",
   "metadata": {},
   "source": [
    "# Randomizes Search CV"
   ]
  },
  {
   "cell_type": "code",
   "execution_count": 91,
   "id": "ae47540b",
   "metadata": {
    "ExecuteTime": {
     "end_time": "2022-07-21T18:55:42.477067Z",
     "start_time": "2022-07-21T18:55:42.466111Z"
    }
   },
   "outputs": [],
   "source": [
    "from sklearn.neighbors import KNeighborsClassifier"
   ]
  },
  {
   "cell_type": "code",
   "execution_count": 92,
   "id": "0c1a9b64",
   "metadata": {
    "ExecuteTime": {
     "end_time": "2022-07-21T18:56:23.418451Z",
     "start_time": "2022-07-21T18:55:43.195143Z"
    }
   },
   "outputs": [
    {
     "data": {
      "text/plain": [
       "RandomizedSearchCV(cv=3, estimator=KNeighborsClassifier(), n_jobs=-1,\n",
       "                   param_distributions={'n_neighbors': array([ 5,  6,  7,  8,  9, 10, 11, 12, 13, 14, 15, 16, 17, 18, 19, 20, 21,\n",
       "       22, 23, 24, 25, 26, 27, 28, 29]),\n",
       "                                        'weights': ['uniform', 'distance']},\n",
       "                   scoring='f1_weighted')"
      ]
     },
     "execution_count": 92,
     "metadata": {},
     "output_type": "execute_result"
    }
   ],
   "source": [
    "from sklearn.model_selection import GridSearchCV,RandomizedSearchCV\n",
    "knn=KNeighborsClassifier()\n",
    "param={'n_neighbors':np.arange(5,30),'weights':['uniform','distance']}\n",
    "GS=RandomizedSearchCV(knn,param,cv=3,scoring='f1_weighted',n_jobs=-1)\n",
    "GS.fit(X_train,y_train)"
   ]
  },
  {
   "cell_type": "code",
   "execution_count": 94,
   "id": "13e59122",
   "metadata": {
    "ExecuteTime": {
     "end_time": "2022-07-21T18:58:11.562279Z",
     "start_time": "2022-07-21T18:58:11.552251Z"
    }
   },
   "outputs": [],
   "source": [
    "from sklearn.model_selection import GridSearchCV"
   ]
  },
  {
   "cell_type": "code",
   "execution_count": 95,
   "id": "fd0b604d",
   "metadata": {
    "ExecuteTime": {
     "end_time": "2022-07-21T18:58:23.862915Z",
     "start_time": "2022-07-21T18:58:12.236193Z"
    }
   },
   "outputs": [
    {
     "data": {
      "text/plain": [
       "GridSearchCV(cv=5, estimator=DecisionTreeClassifier(),\n",
       "             param_grid={'criterion': ['gini', 'entropy'],\n",
       "                         'max_depth': array([ 3,  4,  5,  6,  7,  8,  9, 10, 11, 12, 13, 14])})"
      ]
     },
     "execution_count": 95,
     "metadata": {},
     "output_type": "execute_result"
    }
   ],
   "source": [
    "param_grid = { 'criterion':['gini','entropy'],'max_depth': np.arange(3, 15)}\n",
    "dtree_model=DecisionTreeClassifier()\n",
    "dtree_gscv = GridSearchCV(dtree_model, param_grid, cv=5)\n",
    "dtree_gscv.fit(X, y)"
   ]
  },
  {
   "cell_type": "code",
   "execution_count": 96,
   "id": "048a53ab",
   "metadata": {
    "ExecuteTime": {
     "end_time": "2022-07-21T18:58:43.789638Z",
     "start_time": "2022-07-21T18:58:43.780617Z"
    }
   },
   "outputs": [
    {
     "data": {
      "text/plain": [
       "DecisionTreeClassifier(criterion='entropy', max_depth=6)"
      ]
     },
     "execution_count": 96,
     "metadata": {},
     "output_type": "execute_result"
    }
   ],
   "source": [
    "dtree_gscv.best_estimator_"
   ]
  },
  {
   "cell_type": "code",
   "execution_count": 97,
   "id": "f84cc296",
   "metadata": {
    "ExecuteTime": {
     "end_time": "2022-07-21T18:59:03.025572Z",
     "start_time": "2022-07-21T18:59:03.016634Z"
    }
   },
   "outputs": [
    {
     "data": {
      "text/plain": [
       "array([0.70406917, 0.69819685, 0.70267243, 0.71005551, 0.70901506,\n",
       "       0.70703396, 0.70039164, 0.70019227, 0.69608712, 0.69652903,\n",
       "       0.69444798, 0.69494675, 0.70496722, 0.7000213 , 0.70188847,\n",
       "       0.71015529, 0.70988449, 0.70368445, 0.70699122, 0.69772633,\n",
       "       0.69672848, 0.69655758, 0.69521774, 0.69547426])"
      ]
     },
     "execution_count": 97,
     "metadata": {},
     "output_type": "execute_result"
    }
   ],
   "source": [
    "scores = dtree_gscv.cv_results_\n",
    "scores[\"mean_test_score\"]"
   ]
  },
  {
   "cell_type": "code",
   "execution_count": 98,
   "id": "7f748097",
   "metadata": {
    "ExecuteTime": {
     "end_time": "2022-07-21T18:59:14.764789Z",
     "start_time": "2022-07-21T18:59:14.739825Z"
    }
   },
   "outputs": [
    {
     "data": {
      "text/plain": [
       "0.7393576586849107"
      ]
     },
     "execution_count": 98,
     "metadata": {},
     "output_type": "execute_result"
    }
   ],
   "source": [
    "dtree_gscv.score(X_test,y_test)"
   ]
  },
  {
   "cell_type": "markdown",
   "id": "e979ffc0",
   "metadata": {},
   "source": [
    "# Random Forest Classifier"
   ]
  },
  {
   "cell_type": "code",
   "execution_count": 99,
   "id": "5bde3e79",
   "metadata": {
    "ExecuteTime": {
     "end_time": "2022-07-21T18:59:43.718349Z",
     "start_time": "2022-07-21T18:59:43.677349Z"
    }
   },
   "outputs": [],
   "source": [
    "from sklearn.ensemble import RandomForestClassifier"
   ]
  },
  {
   "cell_type": "code",
   "execution_count": 100,
   "id": "dae5da50",
   "metadata": {
    "ExecuteTime": {
     "end_time": "2022-07-21T19:00:03.918543Z",
     "start_time": "2022-07-21T19:00:03.067331Z"
    }
   },
   "outputs": [
    {
     "data": {
      "text/plain": [
       "RandomForestClassifier(max_depth=2, random_state=0)"
      ]
     },
     "execution_count": 100,
     "metadata": {},
     "output_type": "execute_result"
    }
   ],
   "source": [
    "model3 = RandomForestClassifier(max_depth= 2, random_state=0)\n",
    "model3.fit(X_train,y_train)"
   ]
  },
  {
   "cell_type": "code",
   "execution_count": 103,
   "id": "aba66e9d",
   "metadata": {
    "ExecuteTime": {
     "end_time": "2022-07-21T19:00:49.942071Z",
     "start_time": "2022-07-21T19:00:49.821979Z"
    }
   },
   "outputs": [
    {
     "data": {
      "text/plain": [
       "0.669707335613835"
      ]
     },
     "execution_count": 103,
     "metadata": {},
     "output_type": "execute_result"
    }
   ],
   "source": [
    "accuracy_score(model3.predict(X_test),y_test)"
   ]
  },
  {
   "cell_type": "code",
   "execution_count": null,
   "id": "26c9b8a0",
   "metadata": {},
   "outputs": [],
   "source": []
  }
 ],
 "metadata": {
  "kernelspec": {
   "display_name": "Python 3 (ipykernel)",
   "language": "python",
   "name": "python3"
  },
  "language_info": {
   "codemirror_mode": {
    "name": "ipython",
    "version": 3
   },
   "file_extension": ".py",
   "mimetype": "text/x-python",
   "name": "python",
   "nbconvert_exporter": "python",
   "pygments_lexer": "ipython3",
   "version": "3.9.7"
  },
  "toc": {
   "base_numbering": 1,
   "nav_menu": {},
   "number_sections": true,
   "sideBar": true,
   "skip_h1_title": false,
   "title_cell": "Table of Contents",
   "title_sidebar": "Contents",
   "toc_cell": false,
   "toc_position": {},
   "toc_section_display": true,
   "toc_window_display": false
  }
 },
 "nbformat": 4,
 "nbformat_minor": 5
}
